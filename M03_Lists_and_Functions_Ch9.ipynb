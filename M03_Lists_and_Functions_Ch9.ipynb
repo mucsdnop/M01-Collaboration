{
 "cells": [
  {
   "cell_type": "code",
   "execution_count": 10,
   "id": "f12adace",
   "metadata": {},
   "outputs": [
    {
     "name": "stdout",
     "output_type": "stream",
     "text": [
      "['Harry', 'Ron', 'Hermione']\n"
     ]
    }
   ],
   "source": [
    "def good():\n",
    "    list = ['Harry', 'Ron', 'Hermione']\n",
    "    print(list)\n",
    "good()"
   ]
  },
  {
   "cell_type": "code",
   "execution_count": 19,
   "id": "5ba07997",
   "metadata": {},
   "outputs": [
    {
     "name": "stdout",
     "output_type": "stream",
     "text": [
      "5\n"
     ]
    }
   ],
   "source": [
    "def get_odds():\n",
    "    num = 1\n",
    "    for i in range(10):\n",
    "        if i % 2:\n",
    "            if num == 3:\n",
    "                print(i)\n",
    "            num += 1\n",
    "get_odds()"
   ]
  },
  {
   "cell_type": "code",
   "execution_count": null,
   "id": "a96fff77",
   "metadata": {},
   "outputs": [],
   "source": []
  }
 ],
 "metadata": {
  "kernelspec": {
   "display_name": "Python 3 (ipykernel)",
   "language": "python",
   "name": "python3"
  },
  "language_info": {
   "codemirror_mode": {
    "name": "ipython",
    "version": 3
   },
   "file_extension": ".py",
   "mimetype": "text/x-python",
   "name": "python",
   "nbconvert_exporter": "python",
   "pygments_lexer": "ipython3",
   "version": "3.9.12"
  }
 },
 "nbformat": 4,
 "nbformat_minor": 5
}
