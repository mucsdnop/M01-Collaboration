{
 "cells": [
  {
   "cell_type": "code",
   "execution_count": 15,
   "id": "f3c34079",
   "metadata": {},
   "outputs": [],
   "source": [
    "things = [\"mozzarella\", \"cinderella\", \"salmonella\"]"
   ]
  },
  {
   "cell_type": "code",
   "execution_count": 16,
   "id": "8b22c121",
   "metadata": {},
   "outputs": [
    {
     "data": {
      "text/plain": [
       "['mozzarella', 'Cinderella', 'salmonella']"
      ]
     },
     "execution_count": 16,
     "metadata": {},
     "output_type": "execute_result"
    }
   ],
   "source": [
    "things[1] = things[1].capitalize()\n",
    "things\n",
    "# Yes it capitalized Cinderella"
   ]
  },
  {
   "cell_type": "code",
   "execution_count": 17,
   "id": "29eaa40b",
   "metadata": {},
   "outputs": [
    {
     "data": {
      "text/plain": [
       "['MOZZARELLA', 'Cinderella', 'salmonella']"
      ]
     },
     "execution_count": 17,
     "metadata": {},
     "output_type": "execute_result"
    }
   ],
   "source": [
    "things[0] = things[0].upper()\n",
    "things"
   ]
  },
  {
   "cell_type": "code",
   "execution_count": 18,
   "id": "43a5464d",
   "metadata": {},
   "outputs": [
    {
     "data": {
      "text/plain": [
       "['MOZZARELLA', 'Cinderella']"
      ]
     },
     "execution_count": 18,
     "metadata": {},
     "output_type": "execute_result"
    }
   ],
   "source": [
    "things.remove(things[2])\n",
    "things"
   ]
  },
  {
   "cell_type": "code",
   "execution_count": null,
   "id": "54a0b0c3",
   "metadata": {},
   "outputs": [],
   "source": []
  }
 ],
 "metadata": {
  "kernelspec": {
   "display_name": "Python 3 (ipykernel)",
   "language": "python",
   "name": "python3"
  },
  "language_info": {
   "codemirror_mode": {
    "name": "ipython",
    "version": 3
   },
   "file_extension": ".py",
   "mimetype": "text/x-python",
   "name": "python",
   "nbconvert_exporter": "python",
   "pygments_lexer": "ipython3",
   "version": "3.9.12"
  }
 },
 "nbformat": 4,
 "nbformat_minor": 5
}
